{
 "cells": [
  {
   "cell_type": "code",
   "execution_count": 1,
   "id": "46807b56",
   "metadata": {},
   "outputs": [
    {
     "ename": "NameError",
     "evalue": "name '__vsc_ipynb_file__' is not defined",
     "output_type": "error",
     "traceback": [
      "\u001b[1;31m---------------------------------------------------------------------------\u001b[0m",
      "\u001b[1;31mNameError\u001b[0m                                 Traceback (most recent call last)",
      "Input \u001b[1;32mIn [1]\u001b[0m, in \u001b[0;36m<cell line: 3>\u001b[1;34m()\u001b[0m\n\u001b[0;32m      1\u001b[0m \u001b[38;5;28;01mfrom\u001b[39;00m \u001b[38;5;21;01mPIL\u001b[39;00m \u001b[38;5;28;01mimport\u001b[39;00m Image\n\u001b[0;32m      2\u001b[0m \u001b[38;5;28;01mfrom\u001b[39;00m \u001b[38;5;21;01mIPython\u001b[39;00m\u001b[38;5;21;01m.\u001b[39;00m\u001b[38;5;21;01mdisplay\u001b[39;00m \u001b[38;5;28;01mimport\u001b[39;00m display\n\u001b[1;32m----> 3\u001b[0m \u001b[38;5;28mprint\u001b[39m(\u001b[38;5;124m\"\u001b[39m\u001b[38;5;124mMandelbrot set generated via\u001b[39m\u001b[38;5;124m\"\u001b[39m,\u001b[43m__vsc_ipynb_file__\u001b[49m)\n\u001b[0;32m      4\u001b[0m img\u001b[38;5;241m=\u001b[39mImage\u001b[38;5;241m.\u001b[39meffect_mandelbrot((\u001b[38;5;241m512\u001b[39m, \u001b[38;5;241m512\u001b[39m),(\u001b[38;5;241m-\u001b[39m\u001b[38;5;241m2.25\u001b[39m, \u001b[38;5;241m-\u001b[39m\u001b[38;5;241m1.5\u001b[39m, \u001b[38;5;241m0.75\u001b[39m, \u001b[38;5;241m1.5\u001b[39m),\u001b[38;5;241m100\u001b[39m)\n\u001b[0;32m      5\u001b[0m display(img)\n",
      "\u001b[1;31mNameError\u001b[0m: name '__vsc_ipynb_file__' is not defined"
     ]
    }
   ],
   "source": [
    "from PIL import Image\n",
    "from IPython.display import display\n",
    "print(\"Mandelbrot set generated via\",__vsc_ipynb_file__)\n",
    "img=Image.effect_mandelbrot((512, 512),(-2.25, -1.5, 0.75, 1.5),100)\n",
    "display(img)\n"
   ]
  },
  {
   "cell_type": "code",
   "execution_count": null,
   "id": "cf1e4c71",
   "metadata": {},
   "outputs": [],
   "source": []
  }
 ],
 "metadata": {
  "kernelspec": {
   "display_name": "Python 3 (ipykernel)",
   "language": "python",
   "name": "python3"
  },
  "language_info": {
   "codemirror_mode": {
    "name": "ipython",
    "version": 3
   },
   "file_extension": ".py",
   "mimetype": "text/x-python",
   "name": "python",
   "nbconvert_exporter": "python",
   "pygments_lexer": "ipython3",
   "version": "3.9.12"
  }
 },
 "nbformat": 4,
 "nbformat_minor": 5
}
